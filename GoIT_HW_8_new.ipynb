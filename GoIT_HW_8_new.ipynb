{
 "cells": [
  {
   "cell_type": "markdown",
   "metadata": {
    "id": "b0Yf4NBJUSNM"
   },
   "source": [
    "# Створення нейронної мережі\n",
    "\n",
    "У цьому завданні ми створимо повнозв'язну нейронну мережу, використовуючи при цьому низькорівневі механізми tensorflow.\n",
    "\n",
    "Архітектура нейромережі представлена на наступному малюнку. Як бачиш, у ній є один вхідний шар, два приховані, а також вихідний шар. В якості активаційної функції у прихованих шарах буде використовуватись сигмоїда. На вихідному шарі ми використовуємо softmax.\n",
    "\n",
    "Частина коду зі створення мережі вже написана, тобі потрібно заповнити пропуски у вказаних місцях."
   ]
  },
  {
   "cell_type": "markdown",
   "metadata": {
    "id": "01rZWUu0USNQ"
   },
   "source": [
    "## Архітектура нейронної мережі\n",
    "\n",
    "<img src=\"http://cs231n.github.io/assets/nn1/neural_net2.jpeg\" alt=\"nn\" style=\"width: 400px;\"/>\n"
   ]
  },
  {
   "cell_type": "markdown",
   "metadata": {
    "id": "LLvIZ705Qw_V"
   },
   "source": [
    "## Про датасет MNIST\n",
    "\n",
    "Дану нейромережу ми будемо вивчати на датасеті MNIST. Цей датасет являє собою велику кількість зображень рукописних цифр розміром $28 \\times 28$ пікселів. Кожен піксель приймає значення від 0 до 255.\n",
    "\n",
    "Як і раніше, датасет буде розділений на навчальну та тестову вибірки. При цьому ми виконаємо нормалізацію всіх зображень, щоб значення пікселів знаходилось у проміжку від 0 до 1, розділивши яскравість кожного пікселя на 255.\n",
    "\n",
    "Окрім того, архітектура нейронної мережі очікує на вхід вектор. У нашому ж випадку кожен об'єкт вибірки являє собою матрицю. Що ж робити? У цьому завданні ми \"розтягнемо\" матрицю $28 \\times 28$, отримавши при цьому вектор, що складається з 784 елементів.\n",
    "\n",
    "![MNIST Dataset](https://www.researchgate.net/profile/Steven-Young-5/publication/306056875/figure/fig1/AS:393921575309346@1470929630835/Example-images-from-the-MNIST-dataset.png)\n",
    "\n",
    "Більше інформації про датасет можна знайти [тут](http://yann.lecun.com/exdb/mnist/)."
   ]
  },
  {
   "cell_type": "code",
   "execution_count": 1,
   "metadata": {
    "id": "il_0_5OyUSNR"
   },
   "outputs": [],
   "source": [
    "import tensorflow as tf\n",
    "import numpy as np\n",
    "import pandas as pd\n",
    "import matplotlib.pyplot as plt\n",
    "import random\n",
    "import keras as K\n",
    "import seaborn as sns\n",
    "from sklearn.metrics import confusion_matrix"
   ]
  },
  {
   "cell_type": "code",
   "execution_count": 2,
   "metadata": {
    "id": "cd-1_abTUSNS"
   },
   "outputs": [],
   "source": [
    "num_classes = 10 # загальна кількість класів, у нашому випадку це цифри від 0 до 9\n",
    "num_features = 784 # кількість атрибутів вхідного вектора 28 * 28 = 784\n",
    "\n",
    "learning_rate = 0.001 # швидкість навчання нейронної мережі\n",
    "training_steps = 3000 # максимальне число епох\n",
    "batch_size = 256 # перераховувати ваги мережі ми будемо не на всій вибірці, а на її випадковій підмножині з batch_size елементів\n",
    "display_step = 100 # кожні 100 ітерацій ми будемо показувати поточне значення функції втрат і точності\n",
    "\n",
    "n_hidden_1 = 128 # кількість нейронів 1-го шару\n",
    "n_hidden_2 = 256 # кількість нейронів 2-го шару"
   ]
  },
  {
   "cell_type": "code",
   "execution_count": 3,
   "metadata": {
    "colab": {
     "base_uri": "https://localhost:8080/"
    },
    "id": "pGTXiRyTUSNT",
    "outputId": "68f5b9d9-6c78-4bda-b26f-69aa82e93f20"
   },
   "outputs": [],
   "source": [
    "# from tensorflow.keras.datasets import mnist\n",
    "from tensorflow.keras.datasets import mnist\n",
    "\n",
    "# Завантажуємо датасет\n",
    "(x_train, y_train), (x_test, y_test) = mnist.load_data()\n",
    "\n",
    "# Перетворимо цілочисленні пікселі до типу float32\n",
    "x_train, x_test = np.array(x_train, np.float32), np.array(x_test, np.float32)\n",
    "\n",
    "# Перетворимо цілочисленні пікселі до типу float32\n",
    "x_train, x_test = x_train.reshape([-1, num_features]), x_test.reshape([-1, num_features])\n",
    "\n",
    "# Нормалізуємо значення пікселів\n",
    "x_train, x_test = x_train / 255., x_test / 255.\n",
    "\n",
    "# Перемішаємо тренувальні дані\n",
    "train_data = tf.data.Dataset.from_tensor_slices((x_train, y_train))\n",
    "train_data = train_data.repeat().shuffle(5000).batch(batch_size).prefetch(1)"
   ]
  },
  {
   "cell_type": "code",
   "execution_count": 4,
   "metadata": {
    "id": "FkRmCQjnUSNV"
   },
   "outputs": [],
   "source": [
    "# Створимо нейронну мережу\n",
    "\n",
    "class DenseLayer(tf.Module):\n",
    "    def __init__(self, in_features, out_features, name=None):\n",
    "        super().__init__(name=name)\n",
    "        self.w = tf.Variable(\n",
    "            tf.random.normal([in_features, out_features]), name=\"w\"\n",
    "        )\n",
    "        self.b = tf.Variable(tf.zeros([out_features]), name=\"b\")\n",
    "\n",
    "    def __call__(self, x, activation=0):\n",
    "        y = tf.matmul(x, self.w) + self.b\n",
    "        if activation != 0:\n",
    "            return tf.nn.softmax(y)\n",
    "        else:\n",
    "            return tf.nn.sigmoid(y)\n",
    "\n",
    "\n",
    "class NN(tf.Module):\n",
    "  def __init__(self, name=None):\n",
    "    super().__init__(name=name)\n",
    "    # Перший шар, що складається із 128 нейронів.\n",
    "    self.layer_1 = DenseLayer(in_features=num_features, out_features=n_hidden_1)\n",
    "\n",
    "    # Другий шар, що складається з 256 нейронів\n",
    "    self.layer_2 = DenseLayer(in_features=n_hidden_1, out_features=n_hidden_2)\n",
    "\n",
    "    # Вихідний шар\n",
    "    self.layer_3 = DenseLayer(in_features=n_hidden_2, out_features=num_classes)\n",
    "\n",
    "  def __call__(self, x):\n",
    "    # Місце для вашого коду\n",
    "    x1 = self.layer_1(x, activation=0)\n",
    "    x2 = self.layer_2(x1, activation=0)\n",
    "    x3 = self.layer_3(x2, activation=1)\n",
    "\n",
    "    # Пам'ятайте, що для виходу нейронної мережі ми застосовуємо до виходу функцію softmax.\n",
    "    # Робимо ми це для того, щоб\n",
    "    # вихід нейронної мережі приймав значення від 0 до 1 відповідно до ймовірності\n",
    "    # Приналежності вхідного об'єкта до одного з 10 класів\n",
    "\n",
    "    return x3"
   ]
  },
  {
   "cell_type": "code",
   "execution_count": 5,
   "metadata": {
    "id": "LIf3o7VAUSNV"
   },
   "outputs": [],
   "source": [
    "# Як функцію помилки в даному випадку зручно взяти крос-ентропію\n",
    "def cross_entropy(y_pred, y_true):\n",
    "    # Encode label to a one hot vector.\n",
    "    y_true = tf.one_hot(y_true, depth=num_classes)\n",
    "\n",
    "    # Clip prediction values to avoid log(0) error.\n",
    "    y_pred = tf.clip_by_value(y_pred, 1e-9, 1.)\n",
    "\n",
    "    # Обчислення крос-ентропії\n",
    "    return tf.reduce_mean(-tf.reduce_sum(y_true * tf.math.log(y_pred)))\n",
    "\n",
    "# Як метрику якості використовуємо точність\n",
    "def accuracy(y_pred, y_true):\n",
    "    # Місце для вашого коду\n",
    "    acc = tf.metrics.Accuracy()\n",
    "    acc.update_state(y_true, tf.argmax(y_pred, axis=1))\n",
    "    return acc.result()"
   ]
  },
  {
   "cell_type": "code",
   "execution_count": 6,
   "metadata": {
    "id": "MQeT1yatUSNW"
   },
   "outputs": [],
   "source": [
    "# Створимо екземпляр нейронної мережі\n",
    "neural_net = NN(name=\"mnist\")\n",
    "\n",
    "# Функція навчання нейромережі\n",
    "def train(nn, input_x, output_y):\n",
    "  # Для припасування ваг мережі будемо використовувати стохастичний градієнтний спуск\n",
    "  optimizer = tf.optimizers.SGD(learning_rate)\n",
    "\n",
    "  # Активація автоматичного диференціювання\n",
    "  with tf.GradientTape() as g:\n",
    "    pred = neural_net(input_x)\n",
    "    loss = cross_entropy(pred, output_y)\n",
    "        \n",
    "    # Створимо список параметрів, що оптимізуються.\n",
    "    trainable_variables = nn.trainable_variables\n",
    "\n",
    "    # Обчислимо за ними значення градієнта\n",
    "    gradients = g.gradient(loss, trainable_variables)\n",
    "    \n",
    "    # Модифікуємо параметри\n",
    "    optimizer.apply_gradients(zip(gradients, trainable_variables))"
   ]
  },
  {
   "cell_type": "code",
   "execution_count": 7,
   "metadata": {
    "id": "fnyns9lBfpQZ"
   },
   "outputs": [
    {
     "ename": "NameError",
     "evalue": "name 'output_y' is not defined",
     "output_type": "error",
     "traceback": [
      "\u001b[1;31m---------------------------------------------------------------------------\u001b[0m",
      "\u001b[1;31mNameError\u001b[0m                                 Traceback (most recent call last)",
      "Cell \u001b[1;32mIn[7], line 11\u001b[0m\n\u001b[0;32m      6\u001b[0m \u001b[38;5;66;03m# У цьому циклі ми будемо проводити навчання нейронної мережі\u001b[39;00m\n\u001b[0;32m      7\u001b[0m \u001b[38;5;66;03m# із тренувального датасета train_data вилучи випадкову підмножину, на якій\u001b[39;00m\n\u001b[0;32m      8\u001b[0m \u001b[38;5;66;03m# відбудеться тренування. Використовуй метод take, доступний для тренувального датасета.\u001b[39;00m\n\u001b[0;32m      9\u001b[0m \u001b[38;5;28;01mfor\u001b[39;00m step, (batch_x, batch_y) \u001b[38;5;129;01min\u001b[39;00m \u001b[38;5;28menumerate\u001b[39m(train_data\u001b[38;5;241m.\u001b[39mtake(training_steps)):\n\u001b[0;32m     10\u001b[0m     \u001b[38;5;66;03m# Оновлюємо ваги нейронної мережі\u001b[39;00m\n\u001b[1;32m---> 11\u001b[0m     train(neural_net, batch_x, batch_y, \u001b[43moutput_y\u001b[49m)\n\u001b[0;32m     13\u001b[0m     \u001b[38;5;28;01mif\u001b[39;00m step \u001b[38;5;241m%\u001b[39m display_step \u001b[38;5;241m==\u001b[39m \u001b[38;5;241m0\u001b[39m:\n\u001b[0;32m     14\u001b[0m         pred \u001b[38;5;241m=\u001b[39m neural_net(batch_x)\n",
      "\u001b[1;31mNameError\u001b[0m: name 'output_y' is not defined"
     ]
    }
   ],
   "source": [
    "# Тренування мережі\n",
    "\n",
    "loss_history = []  # кожні display_step кроків зберігай в цьому списку поточну помилку нейромережі\n",
    "accuracy_history = [] # кожні display_step кроків зберігай в цьому списку поточну точність нейромережі\n",
    "\n",
    "# У цьому циклі ми будемо проводити навчання нейронної мережі\n",
    "# із тренувального датасета train_data вилучи випадкову підмножину, на якій\n",
    "# відбудеться тренування. Використовуй метод take, доступний для тренувального датасета.\n",
    "for step, (batch_x, batch_y) in enumerate(train_data.take(training_steps)):\n",
    "    # Оновлюємо ваги нейронної мережі\n",
    "    train(neural_net, batch_x, batch_y, output_y)\n",
    "    \n",
    "    if step % display_step == 0:\n",
    "        pred = neural_net(batch_x)\n",
    "        current_loss = cross_entropy(pred, batch_y)\n",
    "        loss_history.append(current_loss)\n",
    "        \n",
    "        current_accuracy = accuracy(pred, batch_y)\n",
    "        accuracy_history.append(current_accuracy)\n",
    "        print(f\"Step: {step}, Loss: {current_loss}, Accuracy: {current_accuracy}\")\n"
   ]
  },
  {
   "cell_type": "code",
   "execution_count": 8,
   "metadata": {
    "id": "_yCBfG6MbQB2"
   },
   "outputs": [
    {
     "data": {
      "image/png": "[encoded data removed]",
      "text/plain": [
       "<Figure size 1600x1000 with 2 Axes>"
      ]
     },
     "metadata": {},
     "output_type": "display_data"
    }
   ],
   "source": [
    "# Виведіть графіки залежності зміни точності і втрат від кроку\n",
    "# Якщо все зроблено правильно, то точність повинна зростати, а втрати зменшуватись\n",
    "\n",
    "import matplotlib.pyplot as plt\n",
    "\n",
    "# Виведіть графік функції втрат\n",
    "fig, axs = plt.subplots(figsize=(16, 10))\n",
    "axs.plot(loss_history, 'r', label='loss', linestyle=\":\")\n",
    "axs.legend()\n",
    "\n",
    "axs2=axs.twinx()\n",
    "axs2.plot(accuracy_history, 'b', label='accuracy', linestyle=\":\")\n",
    "plt.legend()\n",
    "\n",
    "plt.title('Залежності зміни точності та втрат від кроку', fontsize=20, color='g')\n",
    "plt.show()\n",
    "\n",
    "# Виведіть графік точності\n",
    "# Місце для вашого коду\n"
   ]
  },
  {
   "cell_type": "code",
   "execution_count": null,
   "metadata": {
    "id": "LE3g4gDyUSNY"
   },
   "outputs": [
    {
     "name": "stdout",
     "output_type": "stream",
     "text": [
      "Accuracy: 0.11294999718666077\n"
     ]
    }
   ],
   "source": [
    "# Обчисліть точність навченої нейромережі\n",
    "neural_net_accuracy = accuracy(neural_net(x_train), y_train)\n",
    "print(f\"Accuracy: {neural_net_accuracy}\")\n",
    "# Тестування моделі на тестових даних\n",
    "# Місце для вашого коду"
   ]
  },
  {
   "cell_type": "code",
   "execution_count": null,
   "metadata": {
    "id": "_EEHAubOUSNY"
   },
   "outputs": [
    {
     "name": "stdout",
     "output_type": "stream",
     "text": [
      "True: 5 Predict: 0 False\n",
      "True: 0 Predict: 0 True\n",
      "True: 1 Predict: 3 False\n",
      "True: 9 Predict: 0 False\n",
      "True: 4 Predict: 0 False\n",
      "True: 1 Predict: 0 False\n",
      "True: 0 Predict: 0 True\n",
      "True: 9 Predict: 2 False\n",
      "True: 5 Predict: 0 False\n",
      "True: 1 Predict: 0 False\n"
     ]
    },
    {
     "data": {
      "image/png": "[encoded data removed]",
      "text/plain": [
       "<Figure size 1600x600 with 10 Axes>"
      ]
     },
     "metadata": {},
     "output_type": "display_data"
    }
   ],
   "source": [
    "# Протестуйте навчену нейромережу на 10 зображеннях. З тестової вибірки візьміть 5\n",
    "# випадкових зображень і передайте їх у нейронну мережу.\n",
    "# Виведіть зображення та випишіть  поруч відповідь нейромережі.\n",
    "# Зробіть висновок про те, чи помиляється твоя нейронна мережа, і якщо так, то як часто?\n",
    "\n",
    "test_img = np.random.permutation(x_test.shape[0])[:10]\n",
    "y_test_true = y_test[test_img]\n",
    "pred_data = [np.argmax(x) for x in neural_net(x_test[test_img])]\n",
    "\n",
    "plt.figure(figsize=(16, 6))\n",
    "for i in range(10):\n",
    "    print(f\"True: {y_test_true[i]} Predict: {pred_data[i]} {True if y_test_true[i] - pred_data[i] == 0 else False}\")\n",
    "    plt.subplot(1, 10, (i + 1))\n",
    "    plt.imshow(x_test[test_img[i]].reshape(28, 28), cmap='gray')\n",
    "    plt.text(x=10, y=-10, s=pred_data[i], fontsize=18)\n",
    "    \n",
    "plt.tight_layout()\n",
    "plt.show()\n",
    "\n"
   ]
  }
 ],
 "metadata": {
  "colab": {
   "provenance": []
  },
  "kernelspec": {
   "display_name": "Python 3 (ipykernel)",
   "language": "python",
   "name": "python3"
  },
  "language_info": {
   "codemirror_mode": {
    "name": "ipython",
    "version": 3
   },
   "file_extension": ".py",
   "mimetype": "text/x-python",
   "name": "python",
   "nbconvert_exporter": "python",
   "pygments_lexer": "ipython3",
   "version": "3.12.3"
  }
 },
 "nbformat": 4,
 "nbformat_minor": 1
}
